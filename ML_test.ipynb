{
 "cells": [
  {
   "cell_type": "code",
   "execution_count": null,
   "metadata": {},
   "outputs": [],
   "source": [
    "from selenium import webdriver\n",
    "from selenium.webdriver.edge.options import Options as EdgeOptions\n",
    "\n",
    "# 指定 EdgeDriver 的路径\n",
    "driver_path = 'C:\\\\path\\\\to\\\\msedgedriver.exe'  # 请根据实际情况修改路径\n",
    "\n",
    "# 创建 Edge 选项\n",
    "edge_options = EdgeOptions()\n",
    "edge_options.headless = True  # 启动时无头模式\n",
    "\n",
    "# 创建 WebDriver 实例\n",
    "edge = webdriver.Edge(executable_path=driver_path, options=edge_options)\n",
    "\n",
    "# 访问指定 URL\n",
    "page = edge.get('http://baidu.com')\n",
    "\n",
    "# 打印页面源码\n",
    "print(edge.page_source)\n",
    "\n",
    "# 关闭浏览器\n",
    "edge.quit()"
   ]
  },
  {
   "cell_type": "markdown",
   "metadata": {},
   "source": [
    "# 数据获取"
   ]
  },
  {
   "cell_type": "code",
   "execution_count": null,
   "metadata": {},
   "outputs": [],
   "source": [
    "# 爬虫实现 基础\n",
    "# 以及部分实战\n",
    "import requests\n",
    "import selenium\n",
    "# Url管理 网页下载器 网页解析器\n",
    "url=\"https://www.baidu.com\"\n",
    "\n",
    "r=requests.get(url)\n",
    "\n",
    "print(r.text)"
   ]
  },
  {
   "cell_type": "code",
   "execution_count": null,
   "metadata": {},
   "outputs": [],
   "source": [
    "r.encoding\n",
    "r.status_code"
   ]
  },
  {
   "cell_type": "code",
   "execution_count": null,
   "metadata": {},
   "outputs": [],
   "source": [
    "import bs4\n",
    "import requests\n",
    "\n",
    "\n",
    "# html_doc= requests.get('http://www.baidu.com').text\n",
    "# # 根据网页源码分析，得到ur\n",
    "# soup= bs4.BeautifulSoup(\n",
    "#     html_doc, #html文档字符串\n",
    "#     'html.parser' #解析器\n",
    "#     from_encoding= 'utf-8'\n",
    "#     )\n",
    "# # 查找标签 cllass'  文字为Python的节点\n",
    "# # soup.find_all(name,attrs=,string=)\n",
    "# soup.find_all('a')\n",
    "\n",
    "\n",
    "# node= soup.find_all('a')[0]\n",
    "# node.name\n",
    "# node['href']\n",
    "# node.get_text()\n",
    "\n",
    "with open(\"./index.html\",encoding='utf-8') as fin:\n",
    "    html_doc= fin.read()\n",
    "# 从某个区块去找\n",
    "# div_node= bs4.BeautifulSoup(html_doc, 'html.parser').find('div',id='content')\n",
    "# links= div_node.find_all('a')\n",
    "\n",
    "soup= bs4.BeautifulSoup(html_doc, 'html.parser')\n",
    "links= soup.find_all('a')\n",
    "for link in links:\n",
    "    print(link.name)\n",
    "    print(link.get_text())\n",
    "    print(link['href'])\n",
    "\n",
    "img=soup.find('img')\n",
    "print(img)\n",
    "print(img[\"src\"])\n"
   ]
  },
  {
   "cell_type": "markdown",
   "metadata": {},
   "source": [
    "# 探索性数据分析"
   ]
  },
  {
   "cell_type": "code",
   "execution_count": 1,
   "metadata": {},
   "outputs": [
    {
     "data": {
      "text/html": [
       "<div>\n",
       "<style scoped>\n",
       "    .dataframe tbody tr th:only-of-type {\n",
       "        vertical-align: middle;\n",
       "    }\n",
       "\n",
       "    .dataframe tbody tr th {\n",
       "        vertical-align: top;\n",
       "    }\n",
       "\n",
       "    .dataframe thead th {\n",
       "        text-align: right;\n",
       "    }\n",
       "</style>\n",
       "<table border=\"1\" class=\"dataframe\">\n",
       "  <thead>\n",
       "    <tr style=\"text-align: right;\">\n",
       "      <th></th>\n",
       "      <th>Id</th>\n",
       "      <th>Address</th>\n",
       "      <th>Sold Price</th>\n",
       "      <th>Sold On</th>\n",
       "      <th>Summary</th>\n",
       "      <th>Type</th>\n",
       "      <th>Year built</th>\n",
       "      <th>Heating</th>\n",
       "      <th>Cooling</th>\n",
       "      <th>Parking</th>\n",
       "      <th>...</th>\n",
       "      <th>Well Disclosure</th>\n",
       "      <th>remodeled</th>\n",
       "      <th>DOH2</th>\n",
       "      <th>SerialX</th>\n",
       "      <th>Full Baths</th>\n",
       "      <th>Tax Legal Lot Number</th>\n",
       "      <th>Tax Legal Block Number</th>\n",
       "      <th>Tax Legal Tract Number</th>\n",
       "      <th>Building Name</th>\n",
       "      <th>Zip</th>\n",
       "    </tr>\n",
       "  </thead>\n",
       "  <tbody>\n",
       "    <tr>\n",
       "      <th>0</th>\n",
       "      <td>2080183300</td>\n",
       "      <td>11205 Monterey,</td>\n",
       "      <td>$2,000,000</td>\n",
       "      <td>01/31/20</td>\n",
       "      <td>11205 Monterey, San Martin, CA 95046 is a sing...</td>\n",
       "      <td>SingleFamily</td>\n",
       "      <td>No Data</td>\n",
       "      <td>No Data</td>\n",
       "      <td>No Data</td>\n",
       "      <td>0 spaces</td>\n",
       "      <td>...</td>\n",
       "      <td>None</td>\n",
       "      <td>None</td>\n",
       "      <td>None</td>\n",
       "      <td>None</td>\n",
       "      <td>None</td>\n",
       "      <td>None</td>\n",
       "      <td>None</td>\n",
       "      <td>None</td>\n",
       "      <td>None</td>\n",
       "      <td>95046</td>\n",
       "    </tr>\n",
       "    <tr>\n",
       "      <th>1</th>\n",
       "      <td>20926300</td>\n",
       "      <td>5281 Castle Rd,</td>\n",
       "      <td>$2,100,000</td>\n",
       "      <td>02/25/21</td>\n",
       "      <td>Spectacular Mountain and incredible L.A. City ...</td>\n",
       "      <td>SingleFamily</td>\n",
       "      <td>1951</td>\n",
       "      <td>Central</td>\n",
       "      <td>Central Air, Dual</td>\n",
       "      <td>Driveway, Driveway - Brick</td>\n",
       "      <td>...</td>\n",
       "      <td>None</td>\n",
       "      <td>None</td>\n",
       "      <td>None</td>\n",
       "      <td>None</td>\n",
       "      <td>None</td>\n",
       "      <td>None</td>\n",
       "      <td>None</td>\n",
       "      <td>None</td>\n",
       "      <td>None</td>\n",
       "      <td>91011</td>\n",
       "    </tr>\n",
       "    <tr>\n",
       "      <th>2</th>\n",
       "      <td>19595300</td>\n",
       "      <td>3581 Butcher Dr,</td>\n",
       "      <td>$1,125,000</td>\n",
       "      <td>11/06/19</td>\n",
       "      <td>Eichler Style home! with Santa Clara High! in ...</td>\n",
       "      <td>SingleFamily</td>\n",
       "      <td>1954</td>\n",
       "      <td>Central Forced Air - Gas</td>\n",
       "      <td>Central AC</td>\n",
       "      <td>Garage, Garage - Attached, Covered</td>\n",
       "      <td>...</td>\n",
       "      <td>None</td>\n",
       "      <td>None</td>\n",
       "      <td>None</td>\n",
       "      <td>None</td>\n",
       "      <td>None</td>\n",
       "      <td>None</td>\n",
       "      <td>None</td>\n",
       "      <td>None</td>\n",
       "      <td>None</td>\n",
       "      <td>95051</td>\n",
       "    </tr>\n",
       "    <tr>\n",
       "      <th>3</th>\n",
       "      <td>300472200</td>\n",
       "      <td>2021 N Milpitas Blvd,</td>\n",
       "      <td>$36,250,000</td>\n",
       "      <td>10/02/20</td>\n",
       "      <td>2021 N Milpitas Blvd, Milpitas, CA 95035 is a ...</td>\n",
       "      <td>Apartment</td>\n",
       "      <td>1989</td>\n",
       "      <td>Other</td>\n",
       "      <td>No Data</td>\n",
       "      <td>Mixed, Covered</td>\n",
       "      <td>...</td>\n",
       "      <td>None</td>\n",
       "      <td>None</td>\n",
       "      <td>None</td>\n",
       "      <td>None</td>\n",
       "      <td>None</td>\n",
       "      <td>None</td>\n",
       "      <td>None</td>\n",
       "      <td>None</td>\n",
       "      <td>None</td>\n",
       "      <td>95035</td>\n",
       "    </tr>\n",
       "    <tr>\n",
       "      <th>4</th>\n",
       "      <td>2074492000</td>\n",
       "      <td>LOT 4 Tool Box Spring Rd,</td>\n",
       "      <td>$140,000</td>\n",
       "      <td>10/19/20</td>\n",
       "      <td>Beautiful level lot  dotted with pine trees ro...</td>\n",
       "      <td>VacantLand</td>\n",
       "      <td>No Data</td>\n",
       "      <td>No Data</td>\n",
       "      <td>No Data</td>\n",
       "      <td>0 spaces</td>\n",
       "      <td>...</td>\n",
       "      <td>None</td>\n",
       "      <td>None</td>\n",
       "      <td>None</td>\n",
       "      <td>None</td>\n",
       "      <td>None</td>\n",
       "      <td>None</td>\n",
       "      <td>None</td>\n",
       "      <td>None</td>\n",
       "      <td>None</td>\n",
       "      <td>92561</td>\n",
       "    </tr>\n",
       "  </tbody>\n",
       "</table>\n",
       "<p>5 rows × 1789 columns</p>\n",
       "</div>"
      ],
      "text/plain": [
       "           Id                    Address   Sold Price   Sold On  \\\n",
       "0  2080183300            11205 Monterey,   $2,000,000  01/31/20   \n",
       "1    20926300            5281 Castle Rd,   $2,100,000  02/25/21   \n",
       "2    19595300           3581 Butcher Dr,   $1,125,000  11/06/19   \n",
       "3   300472200      2021 N Milpitas Blvd,  $36,250,000  10/02/20   \n",
       "4  2074492000  LOT 4 Tool Box Spring Rd,     $140,000  10/19/20   \n",
       "\n",
       "                                             Summary          Type Year built  \\\n",
       "0  11205 Monterey, San Martin, CA 95046 is a sing...  SingleFamily    No Data   \n",
       "1  Spectacular Mountain and incredible L.A. City ...  SingleFamily       1951   \n",
       "2  Eichler Style home! with Santa Clara High! in ...  SingleFamily       1954   \n",
       "3  2021 N Milpitas Blvd, Milpitas, CA 95035 is a ...     Apartment       1989   \n",
       "4  Beautiful level lot  dotted with pine trees ro...    VacantLand    No Data   \n",
       "\n",
       "                    Heating            Cooling  \\\n",
       "0                   No Data            No Data   \n",
       "1                   Central  Central Air, Dual   \n",
       "2  Central Forced Air - Gas         Central AC   \n",
       "3                     Other            No Data   \n",
       "4                   No Data            No Data   \n",
       "\n",
       "                              Parking  ... Well Disclosure remodeled  DOH2  \\\n",
       "0                            0 spaces  ...            None      None  None   \n",
       "1          Driveway, Driveway - Brick  ...            None      None  None   \n",
       "2  Garage, Garage - Attached, Covered  ...            None      None  None   \n",
       "3                      Mixed, Covered  ...            None      None  None   \n",
       "4                            0 spaces  ...            None      None  None   \n",
       "\n",
       "  SerialX Full Baths Tax Legal Lot Number Tax Legal Block Number  \\\n",
       "0    None       None                 None                   None   \n",
       "1    None       None                 None                   None   \n",
       "2    None       None                 None                   None   \n",
       "3    None       None                 None                   None   \n",
       "4    None       None                 None                   None   \n",
       "\n",
       "  Tax Legal Tract Number Building Name    Zip  \n",
       "0                   None          None  95046  \n",
       "1                   None          None  91011  \n",
       "2                   None          None  95051  \n",
       "3                   None          None  95035  \n",
       "4                   None          None  92561  \n",
       "\n",
       "[5 rows x 1789 columns]"
      ]
     },
     "execution_count": 1,
     "metadata": {},
     "output_type": "execute_result"
    }
   ],
   "source": [
    "## 探索性数据分析\n",
    "import numpy as np\n",
    "import pandas as pd\n",
    "import matplotlib.pyplot as plt\n",
    "import seaborn as sns\n",
    "from sklearn.model_selection import train_test_split\n",
    "\n",
    "data=pd.read_feather('house_sales.ftr')\n",
    "data.head()"
   ]
  },
  {
   "cell_type": "code",
   "execution_count": 2,
   "metadata": {},
   "outputs": [
    {
     "data": {
      "text/plain": [
       "(164944, 1789)"
      ]
     },
     "execution_count": 2,
     "metadata": {},
     "output_type": "execute_result"
    }
   ],
   "source": [
    "data.shape"
   ]
  },
  {
   "cell_type": "code",
   "execution_count": 3,
   "metadata": {},
   "outputs": [
    {
     "data": {
      "text/plain": [
       "Index(['Id', 'Address', 'Sold Price', 'Sold On', 'Summary', 'Type',\n",
       "       'Year built', 'Heating', 'Cooling', 'Parking', 'Bedrooms', 'Bathrooms',\n",
       "       'Total interior livable area', 'Total spaces', 'Garage spaces',\n",
       "       'Home type', 'Region', 'Elementary School', 'Elementary School Score',\n",
       "       'Elementary School Distance', 'High School', 'High School Score',\n",
       "       'High School Distance', 'Heating features', 'Parking features',\n",
       "       'Lot size', 'Parcel number', 'Tax assessed value', 'Annual tax amount',\n",
       "       'Listed On', 'Listed Price', 'Zip'],\n",
       "      dtype='object')"
      ]
     },
     "execution_count": 3,
     "metadata": {},
     "output_type": "execute_result"
    }
   ],
   "source": [
    "# 去掉缺失数据\n",
    "null_sum=data.isnull().sum() # 统计每列的缺失值个数\n",
    "data.columns[null_sum<len(data)*0.3] # 保留缺失值比例小于0.3的列"
   ]
  },
  {
   "cell_type": "code",
   "execution_count": 4,
   "metadata": {},
   "outputs": [],
   "source": [
    "# 使用drop函数去掉缺失值比例超过30%的特征 这个只能跑一次\n",
    "data.drop(columns=data.columns[null_sum>len(data)*0.3],inplace=True)"
   ]
  },
  {
   "cell_type": "code",
   "execution_count": 5,
   "metadata": {},
   "outputs": [
    {
     "data": {
      "text/plain": [
       "Id                             object\n",
       "Address                        object\n",
       "Sold Price                     object\n",
       "Sold On                        object\n",
       "Summary                        object\n",
       "Type                           object\n",
       "Year built                     object\n",
       "Heating                        object\n",
       "Cooling                        object\n",
       "Parking                        object\n",
       "Bedrooms                       object\n",
       "Bathrooms                      object\n",
       "Total interior livable area    object\n",
       "Total spaces                   object\n",
       "Garage spaces                  object\n",
       "Home type                      object\n",
       "Region                         object\n",
       "Elementary School              object\n",
       "Elementary School Score        object\n",
       "Elementary School Distance     object\n",
       "High School                    object\n",
       "High School Score              object\n",
       "High School Distance           object\n",
       "Heating features               object\n",
       "Parking features               object\n",
       "Lot size                       object\n",
       "Parcel number                  object\n",
       "Tax assessed value             object\n",
       "Annual tax amount              object\n",
       "Listed On                      object\n",
       "Listed Price                   object\n",
       "Zip                            object\n",
       "dtype: object"
      ]
     },
     "execution_count": 5,
     "metadata": {},
     "output_type": "execute_result"
    }
   ],
   "source": [
    "# 查看数据类型 筛选不合适的数据\n",
    "data.dtypes"
   ]
  },
  {
   "cell_type": "code",
   "execution_count": 6,
   "metadata": {},
   "outputs": [],
   "source": [
    "# 数据转换 以Sold Price为例 其他同理\n",
    "curren=['Sold Price','Listed Price','Tax assessed value','Annual tax amount','Bathrooms','Total spaces','Garage spaces','Elementary School Score','High School Score']\n",
    "for c in curren:\n",
    "    data[c]=data[c].str.replace(\n",
    "    r'[$,-]','',regex=True).replace(\n",
    "        r'^\\s*$',np.nan,regex=True).astype(float)"
   ]
  },
  {
   "cell_type": "code",
   "execution_count": 7,
   "metadata": {},
   "outputs": [],
   "source": [
    "areas = ['Total interior livable area', 'Lot size']\n",
    "\n",
    "for area in areas:\n",
    "    # 检查是否包含“Acres”\n",
    "    acres = data[area].str.contains('Acres') == True\n",
    "    \n",
    "    # 替换单位并转换为浮点数\n",
    "    col = data[area].str.replace(r'\\b sqft\\b|\\b Acres\\b|\\b,\\b', '', regex=True).astype(float)\n",
    "    \n",
    "    # 将包含“Acres”的行转换为平方英尺\n",
    "    col[acres] *= 43560\n",
    "    \n",
    "    # 更新 DataFrame\n",
    "    data[area] = col"
   ]
  },
  {
   "cell_type": "code",
   "execution_count": 8,
   "metadata": {},
   "outputs": [
    {
     "data": {
      "text/plain": [
       "Id                              object\n",
       "Address                         object\n",
       "Sold Price                     float64\n",
       "Sold On                         object\n",
       "Summary                         object\n",
       "Type                            object\n",
       "Year built                      object\n",
       "Heating                         object\n",
       "Cooling                         object\n",
       "Parking                         object\n",
       "Bedrooms                        object\n",
       "Bathrooms                      float64\n",
       "Total interior livable area    float64\n",
       "Total spaces                   float64\n",
       "Garage spaces                  float64\n",
       "Home type                       object\n",
       "Region                          object\n",
       "Elementary School               object\n",
       "Elementary School Score        float64\n",
       "Elementary School Distance      object\n",
       "High School                     object\n",
       "High School Score              float64\n",
       "High School Distance            object\n",
       "Heating features                object\n",
       "Parking features                object\n",
       "Lot size                       float64\n",
       "Parcel number                   object\n",
       "Tax assessed value             float64\n",
       "Annual tax amount              float64\n",
       "Listed On                       object\n",
       "Listed Price                   float64\n",
       "Zip                             object\n",
       "dtype: object"
      ]
     },
     "execution_count": 8,
     "metadata": {},
     "output_type": "execute_result"
    }
   ],
   "source": [
    "data.dtypes"
   ]
  },
  {
   "cell_type": "code",
   "execution_count": 9,
   "metadata": {},
   "outputs": [
    {
     "data": {
      "text/html": [
       "<div>\n",
       "<style scoped>\n",
       "    .dataframe tbody tr th:only-of-type {\n",
       "        vertical-align: middle;\n",
       "    }\n",
       "\n",
       "    .dataframe tbody tr th {\n",
       "        vertical-align: top;\n",
       "    }\n",
       "\n",
       "    .dataframe thead th {\n",
       "        text-align: right;\n",
       "    }\n",
       "</style>\n",
       "<table border=\"1\" class=\"dataframe\">\n",
       "  <thead>\n",
       "    <tr style=\"text-align: right;\">\n",
       "      <th></th>\n",
       "      <th>Id</th>\n",
       "      <th>Address</th>\n",
       "      <th>Sold Price</th>\n",
       "      <th>Sold On</th>\n",
       "      <th>Summary</th>\n",
       "      <th>Type</th>\n",
       "      <th>Year built</th>\n",
       "      <th>Heating</th>\n",
       "      <th>Cooling</th>\n",
       "      <th>Parking</th>\n",
       "      <th>...</th>\n",
       "      <th>High School Distance</th>\n",
       "      <th>Heating features</th>\n",
       "      <th>Parking features</th>\n",
       "      <th>Lot size</th>\n",
       "      <th>Parcel number</th>\n",
       "      <th>Tax assessed value</th>\n",
       "      <th>Annual tax amount</th>\n",
       "      <th>Listed On</th>\n",
       "      <th>Listed Price</th>\n",
       "      <th>Zip</th>\n",
       "    </tr>\n",
       "  </thead>\n",
       "  <tbody>\n",
       "    <tr>\n",
       "      <th>0</th>\n",
       "      <td>2080183300</td>\n",
       "      <td>11205 Monterey,</td>\n",
       "      <td>2000000.0</td>\n",
       "      <td>01/31/20</td>\n",
       "      <td>11205 Monterey, San Martin, CA 95046 is a sing...</td>\n",
       "      <td>SingleFamily</td>\n",
       "      <td>No Data</td>\n",
       "      <td>No Data</td>\n",
       "      <td>No Data</td>\n",
       "      <td>0 spaces</td>\n",
       "      <td>...</td>\n",
       "      <td>1.4</td>\n",
       "      <td>None</td>\n",
       "      <td>None</td>\n",
       "      <td>NaN</td>\n",
       "      <td>None</td>\n",
       "      <td>NaN</td>\n",
       "      <td>NaN</td>\n",
       "      <td>None</td>\n",
       "      <td>NaN</td>\n",
       "      <td>95046</td>\n",
       "    </tr>\n",
       "    <tr>\n",
       "      <th>1</th>\n",
       "      <td>20926300</td>\n",
       "      <td>5281 Castle Rd,</td>\n",
       "      <td>2100000.0</td>\n",
       "      <td>02/25/21</td>\n",
       "      <td>Spectacular Mountain and incredible L.A. City ...</td>\n",
       "      <td>SingleFamily</td>\n",
       "      <td>1951</td>\n",
       "      <td>Central</td>\n",
       "      <td>Central Air, Dual</td>\n",
       "      <td>Driveway, Driveway - Brick</td>\n",
       "      <td>...</td>\n",
       "      <td>1.2</td>\n",
       "      <td>Central</td>\n",
       "      <td>Driveway, Driveway - Brick</td>\n",
       "      <td>13168.0</td>\n",
       "      <td>5870016003</td>\n",
       "      <td>1829308.0</td>\n",
       "      <td>22330.0</td>\n",
       "      <td>1/13/2021</td>\n",
       "      <td>1950000.0</td>\n",
       "      <td>91011</td>\n",
       "    </tr>\n",
       "    <tr>\n",
       "      <th>2</th>\n",
       "      <td>19595300</td>\n",
       "      <td>3581 Butcher Dr,</td>\n",
       "      <td>1125000.0</td>\n",
       "      <td>11/06/19</td>\n",
       "      <td>Eichler Style home! with Santa Clara High! in ...</td>\n",
       "      <td>SingleFamily</td>\n",
       "      <td>1954</td>\n",
       "      <td>Central Forced Air - Gas</td>\n",
       "      <td>Central AC</td>\n",
       "      <td>Garage, Garage - Attached, Covered</td>\n",
       "      <td>...</td>\n",
       "      <td>0.8</td>\n",
       "      <td>Forced air, Gas</td>\n",
       "      <td>Garage, Garage - Attached, Covered</td>\n",
       "      <td>4795.0</td>\n",
       "      <td>29022100</td>\n",
       "      <td>1125000.0</td>\n",
       "      <td>13472.0</td>\n",
       "      <td>9/2/2019</td>\n",
       "      <td>1299888.0</td>\n",
       "      <td>95051</td>\n",
       "    </tr>\n",
       "    <tr>\n",
       "      <th>3</th>\n",
       "      <td>300472200</td>\n",
       "      <td>2021 N Milpitas Blvd,</td>\n",
       "      <td>36250000.0</td>\n",
       "      <td>10/02/20</td>\n",
       "      <td>2021 N Milpitas Blvd, Milpitas, CA 95035 is a ...</td>\n",
       "      <td>Apartment</td>\n",
       "      <td>1989</td>\n",
       "      <td>Other</td>\n",
       "      <td>No Data</td>\n",
       "      <td>Mixed, Covered</td>\n",
       "      <td>...</td>\n",
       "      <td>0.9</td>\n",
       "      <td>Other</td>\n",
       "      <td>Mixed, Covered</td>\n",
       "      <td>178596.0</td>\n",
       "      <td>02201015</td>\n",
       "      <td>14521205.0</td>\n",
       "      <td>175211.0</td>\n",
       "      <td>None</td>\n",
       "      <td>NaN</td>\n",
       "      <td>95035</td>\n",
       "    </tr>\n",
       "    <tr>\n",
       "      <th>4</th>\n",
       "      <td>2074492000</td>\n",
       "      <td>LOT 4 Tool Box Spring Rd,</td>\n",
       "      <td>140000.0</td>\n",
       "      <td>10/19/20</td>\n",
       "      <td>Beautiful level lot  dotted with pine trees ro...</td>\n",
       "      <td>VacantLand</td>\n",
       "      <td>No Data</td>\n",
       "      <td>No Data</td>\n",
       "      <td>No Data</td>\n",
       "      <td>0 spaces</td>\n",
       "      <td>...</td>\n",
       "      <td>25.8</td>\n",
       "      <td>None</td>\n",
       "      <td>None</td>\n",
       "      <td>NaN</td>\n",
       "      <td>None</td>\n",
       "      <td>NaN</td>\n",
       "      <td>NaN</td>\n",
       "      <td>None</td>\n",
       "      <td>NaN</td>\n",
       "      <td>92561</td>\n",
       "    </tr>\n",
       "  </tbody>\n",
       "</table>\n",
       "<p>5 rows × 32 columns</p>\n",
       "</div>"
      ],
      "text/plain": [
       "           Id                    Address  Sold Price   Sold On  \\\n",
       "0  2080183300            11205 Monterey,   2000000.0  01/31/20   \n",
       "1    20926300            5281 Castle Rd,   2100000.0  02/25/21   \n",
       "2    19595300           3581 Butcher Dr,   1125000.0  11/06/19   \n",
       "3   300472200      2021 N Milpitas Blvd,  36250000.0  10/02/20   \n",
       "4  2074492000  LOT 4 Tool Box Spring Rd,    140000.0  10/19/20   \n",
       "\n",
       "                                             Summary          Type Year built  \\\n",
       "0  11205 Monterey, San Martin, CA 95046 is a sing...  SingleFamily    No Data   \n",
       "1  Spectacular Mountain and incredible L.A. City ...  SingleFamily       1951   \n",
       "2  Eichler Style home! with Santa Clara High! in ...  SingleFamily       1954   \n",
       "3  2021 N Milpitas Blvd, Milpitas, CA 95035 is a ...     Apartment       1989   \n",
       "4  Beautiful level lot  dotted with pine trees ro...    VacantLand    No Data   \n",
       "\n",
       "                    Heating            Cooling  \\\n",
       "0                   No Data            No Data   \n",
       "1                   Central  Central Air, Dual   \n",
       "2  Central Forced Air - Gas         Central AC   \n",
       "3                     Other            No Data   \n",
       "4                   No Data            No Data   \n",
       "\n",
       "                              Parking  ... High School Distance  \\\n",
       "0                            0 spaces  ...                  1.4   \n",
       "1          Driveway, Driveway - Brick  ...                  1.2   \n",
       "2  Garage, Garage - Attached, Covered  ...                  0.8   \n",
       "3                      Mixed, Covered  ...                  0.9   \n",
       "4                            0 spaces  ...                 25.8   \n",
       "\n",
       "   Heating features                    Parking features  Lot size  \\\n",
       "0              None                                None       NaN   \n",
       "1           Central          Driveway, Driveway - Brick   13168.0   \n",
       "2   Forced air, Gas  Garage, Garage - Attached, Covered    4795.0   \n",
       "3             Other                      Mixed, Covered  178596.0   \n",
       "4              None                                None       NaN   \n",
       "\n",
       "   Parcel number Tax assessed value Annual tax amount  Listed On  \\\n",
       "0           None                NaN               NaN       None   \n",
       "1     5870016003          1829308.0           22330.0  1/13/2021   \n",
       "2       29022100          1125000.0           13472.0   9/2/2019   \n",
       "3       02201015         14521205.0          175211.0       None   \n",
       "4           None                NaN               NaN       None   \n",
       "\n",
       "   Listed Price    Zip  \n",
       "0           NaN  95046  \n",
       "1     1950000.0  91011  \n",
       "2     1299888.0  95051  \n",
       "3           NaN  95035  \n",
       "4           NaN  92561  \n",
       "\n",
       "[5 rows x 32 columns]"
      ]
     },
     "execution_count": 9,
     "metadata": {},
     "output_type": "execute_result"
    }
   ],
   "source": [
    "data.head()"
   ]
  },
  {
   "cell_type": "code",
   "execution_count": 10,
   "metadata": {},
   "outputs": [
    {
     "data": {
      "text/html": [
       "<div>\n",
       "<style scoped>\n",
       "    .dataframe tbody tr th:only-of-type {\n",
       "        vertical-align: middle;\n",
       "    }\n",
       "\n",
       "    .dataframe tbody tr th {\n",
       "        vertical-align: top;\n",
       "    }\n",
       "\n",
       "    .dataframe thead th {\n",
       "        text-align: right;\n",
       "    }\n",
       "</style>\n",
       "<table border=\"1\" class=\"dataframe\">\n",
       "  <thead>\n",
       "    <tr style=\"text-align: right;\">\n",
       "      <th></th>\n",
       "      <th>Sold Price</th>\n",
       "      <th>Bathrooms</th>\n",
       "      <th>Total interior livable area</th>\n",
       "      <th>Total spaces</th>\n",
       "      <th>Garage spaces</th>\n",
       "      <th>Elementary School Score</th>\n",
       "      <th>High School Score</th>\n",
       "      <th>Lot size</th>\n",
       "      <th>Tax assessed value</th>\n",
       "      <th>Annual tax amount</th>\n",
       "      <th>Listed Price</th>\n",
       "    </tr>\n",
       "  </thead>\n",
       "  <tbody>\n",
       "    <tr>\n",
       "      <th>count</th>\n",
       "      <td>1.648590e+05</td>\n",
       "      <td>141791.000000</td>\n",
       "      <td>1.465450e+05</td>\n",
       "      <td>156738.000000</td>\n",
       "      <td>156736.000000</td>\n",
       "      <td>145676.000000</td>\n",
       "      <td>144511.000000</td>\n",
       "      <td>1.358450e+05</td>\n",
       "      <td>1.450650e+05</td>\n",
       "      <td>1.433500e+05</td>\n",
       "      <td>1.250060e+05</td>\n",
       "    </tr>\n",
       "    <tr>\n",
       "      <th>mean</th>\n",
       "      <td>1.194842e+06</td>\n",
       "      <td>2.303087</td>\n",
       "      <td>3.182221e+03</td>\n",
       "      <td>1.706938</td>\n",
       "      <td>1.608507</td>\n",
       "      <td>5.654892</td>\n",
       "      <td>6.086485</td>\n",
       "      <td>9.525061e+05</td>\n",
       "      <td>8.898781e+05</td>\n",
       "      <td>1.123415e+04</td>\n",
       "      <td>1.197671e+06</td>\n",
       "    </tr>\n",
       "    <tr>\n",
       "      <th>std</th>\n",
       "      <td>3.336365e+06</td>\n",
       "      <td>1.646634</td>\n",
       "      <td>4.609881e+05</td>\n",
       "      <td>28.802189</td>\n",
       "      <td>28.782320</td>\n",
       "      <td>2.098547</td>\n",
       "      <td>2.033379</td>\n",
       "      <td>1.357197e+08</td>\n",
       "      <td>3.126888e+06</td>\n",
       "      <td>3.859389e+04</td>\n",
       "      <td>2.874721e+06</td>\n",
       "    </tr>\n",
       "    <tr>\n",
       "      <th>min</th>\n",
       "      <td>1.000000e+00</td>\n",
       "      <td>0.000000</td>\n",
       "      <td>1.000000e+00</td>\n",
       "      <td>0.000000</td>\n",
       "      <td>0.000000</td>\n",
       "      <td>1.000000</td>\n",
       "      <td>1.000000</td>\n",
       "      <td>0.000000e+00</td>\n",
       "      <td>0.000000e+00</td>\n",
       "      <td>0.000000e+00</td>\n",
       "      <td>1.000000e+00</td>\n",
       "    </tr>\n",
       "    <tr>\n",
       "      <th>25%</th>\n",
       "      <td>4.350000e+05</td>\n",
       "      <td>2.000000</td>\n",
       "      <td>1.170000e+03</td>\n",
       "      <td>0.000000</td>\n",
       "      <td>0.000000</td>\n",
       "      <td>4.000000</td>\n",
       "      <td>5.000000</td>\n",
       "      <td>4.800000e+03</td>\n",
       "      <td>2.550000e+05</td>\n",
       "      <td>3.434250e+03</td>\n",
       "      <td>4.990000e+05</td>\n",
       "    </tr>\n",
       "    <tr>\n",
       "      <th>50%</th>\n",
       "      <td>8.050000e+05</td>\n",
       "      <td>2.000000</td>\n",
       "      <td>1.558000e+03</td>\n",
       "      <td>1.000000</td>\n",
       "      <td>1.000000</td>\n",
       "      <td>6.000000</td>\n",
       "      <td>6.000000</td>\n",
       "      <td>6.603000e+03</td>\n",
       "      <td>5.635010e+05</td>\n",
       "      <td>7.372000e+03</td>\n",
       "      <td>8.490000e+05</td>\n",
       "    </tr>\n",
       "    <tr>\n",
       "      <th>75%</th>\n",
       "      <td>1.370000e+06</td>\n",
       "      <td>3.000000</td>\n",
       "      <td>2.144000e+03</td>\n",
       "      <td>2.000000</td>\n",
       "      <td>2.000000</td>\n",
       "      <td>7.000000</td>\n",
       "      <td>8.000000</td>\n",
       "      <td>1.209000e+04</td>\n",
       "      <td>1.033832e+06</td>\n",
       "      <td>1.321300e+04</td>\n",
       "      <td>1.395000e+06</td>\n",
       "    </tr>\n",
       "    <tr>\n",
       "      <th>max</th>\n",
       "      <td>8.660000e+08</td>\n",
       "      <td>256.000000</td>\n",
       "      <td>1.764164e+08</td>\n",
       "      <td>9999.000000</td>\n",
       "      <td>9999.000000</td>\n",
       "      <td>10.000000</td>\n",
       "      <td>10.000000</td>\n",
       "      <td>4.856770e+10</td>\n",
       "      <td>8.256328e+08</td>\n",
       "      <td>9.977342e+06</td>\n",
       "      <td>6.250000e+08</td>\n",
       "    </tr>\n",
       "  </tbody>\n",
       "</table>\n",
       "</div>"
      ],
      "text/plain": [
       "         Sold Price      Bathrooms  Total interior livable area  \\\n",
       "count  1.648590e+05  141791.000000                 1.465450e+05   \n",
       "mean   1.194842e+06       2.303087                 3.182221e+03   \n",
       "std    3.336365e+06       1.646634                 4.609881e+05   \n",
       "min    1.000000e+00       0.000000                 1.000000e+00   \n",
       "25%    4.350000e+05       2.000000                 1.170000e+03   \n",
       "50%    8.050000e+05       2.000000                 1.558000e+03   \n",
       "75%    1.370000e+06       3.000000                 2.144000e+03   \n",
       "max    8.660000e+08     256.000000                 1.764164e+08   \n",
       "\n",
       "        Total spaces  Garage spaces  Elementary School Score  \\\n",
       "count  156738.000000  156736.000000            145676.000000   \n",
       "mean        1.706938       1.608507                 5.654892   \n",
       "std        28.802189      28.782320                 2.098547   \n",
       "min         0.000000       0.000000                 1.000000   \n",
       "25%         0.000000       0.000000                 4.000000   \n",
       "50%         1.000000       1.000000                 6.000000   \n",
       "75%         2.000000       2.000000                 7.000000   \n",
       "max      9999.000000    9999.000000                10.000000   \n",
       "\n",
       "       High School Score      Lot size  Tax assessed value  Annual tax amount  \\\n",
       "count      144511.000000  1.358450e+05        1.450650e+05       1.433500e+05   \n",
       "mean            6.086485  9.525061e+05        8.898781e+05       1.123415e+04   \n",
       "std             2.033379  1.357197e+08        3.126888e+06       3.859389e+04   \n",
       "min             1.000000  0.000000e+00        0.000000e+00       0.000000e+00   \n",
       "25%             5.000000  4.800000e+03        2.550000e+05       3.434250e+03   \n",
       "50%             6.000000  6.603000e+03        5.635010e+05       7.372000e+03   \n",
       "75%             8.000000  1.209000e+04        1.033832e+06       1.321300e+04   \n",
       "max            10.000000  4.856770e+10        8.256328e+08       9.977342e+06   \n",
       "\n",
       "       Listed Price  \n",
       "count  1.250060e+05  \n",
       "mean   1.197671e+06  \n",
       "std    2.874721e+06  \n",
       "min    1.000000e+00  \n",
       "25%    4.990000e+05  \n",
       "50%    8.490000e+05  \n",
       "75%    1.395000e+06  \n",
       "max    6.250000e+08  "
      ]
     },
     "execution_count": 10,
     "metadata": {},
     "output_type": "execute_result"
    }
   ],
   "source": [
    "data.describe()"
   ]
  },
  {
   "cell_type": "code",
   "execution_count": 13,
   "metadata": {},
   "outputs": [
    {
     "data": {
      "text/plain": [
       "0"
      ]
     },
     "execution_count": 13,
     "metadata": {},
     "output_type": "execute_result"
    }
   ],
   "source": [
    "# 去掉房间过大和过小的\n",
    "abnormal = (data[areas[1]]<10)|(data[areas[1]]>1e4)\n",
    "data=data[abnormal==False]\n",
    "sum(abnormal)"
   ]
  },
  {
   "cell_type": "code",
   "execution_count": 14,
   "metadata": {},
   "outputs": [
    {
     "name": "stderr",
     "output_type": "stream",
     "text": [
      "C:\\Users\\22388\\AppData\\Local\\Temp\\ipykernel_16036\\2883342094.py:5: UserWarning: set_ticklabels() should only be used with a fixed number of ticks, i.e. after set_ticks() or using a FixedLocator.\n",
      "  ax.set_xticklabels(['%.0e'%a for a in 10**ax.get_xticks()])\n"
     ]
    },
    {
     "data": {
      "text/plain": [
       "[Text(3.0, 0, '1e+03'),\n",
       " Text(4.0, 0, '1e+04'),\n",
       " Text(5.0, 0, '1e+05'),\n",
       " Text(6.0, 0, '1e+06'),\n",
       " Text(7.0, 0, '1e+07'),\n",
       " Text(8.0, 0, '1e+08')]"
      ]
     },
     "execution_count": 14,
     "metadata": {},
     "output_type": "execute_result"
    },
    {
     "data": {
      "image/png": "[encoded data removed]",
      "text/plain": [
       "<Figure size 640x480 with 1 Axes>"
      ]
     },
     "metadata": {},
     "output_type": "display_data"
    }
   ],
   "source": [
    "# 卖价 展示\n",
    "ax=sns.histplot(np.log10(data['Sold Price']))\n",
    "ax.set_xlim([3,8])\n",
    "ax.set_xlabel('log10(Sold Price)')\n",
    "ax.set_xticklabels(['%.0e'%a for a in 10**ax.get_xticks()])"
   ]
  },
  {
   "cell_type": "code",
   "execution_count": 16,
   "metadata": {},
   "outputs": [
    {
     "data": {
      "text/plain": [
       "Type\n",
       "SingleFamily            74318\n",
       "Condo                   18749\n",
       "MultiFamily              6586\n",
       "VacantLand               6199\n",
       "Townhouse                5846\n",
       "Unknown                  5390\n",
       "MobileManufactured       2588\n",
       "Apartment                1416\n",
       "Cooperative               161\n",
       "Residential Lot            75\n",
       "Single Family              69\n",
       "Single Family Lot          56\n",
       "Acreage                    48\n",
       "2 Story                    39\n",
       "3 Story                    25\n",
       "Hi-Rise (9+), Luxury       21\n",
       "Condominium                19\n",
       "Duplex                     19\n",
       "RESIDENTIAL                19\n",
       "Mid-Rise (4-8)             17\n",
       "Name: count, dtype: int64"
      ]
     },
     "execution_count": 16,
     "metadata": {},
     "output_type": "execute_result"
    }
   ],
   "source": [
    "# 查找房子种类\n",
    "data['Type'].value_counts()[0:20]"
   ]
  },
  {
   "cell_type": "code",
   "execution_count": null,
   "metadata": {},
   "outputs": [],
   "source": [
    "# 不同房子的价格分布 其他的可视化\n",
    "types=data['Type'].isin()\n",
    "..."
   ]
  },
  {
   "cell_type": "markdown",
   "metadata": {},
   "source": [
    "## 数据操作+数据预处理"
   ]
  },
  {
   "cell_type": "code",
   "execution_count": 3,
   "metadata": {},
   "outputs": [
    {
     "data": {
      "text/plain": [
       "tensor([ 0,  1,  2,  3,  4,  5,  6,  7,  8,  9, 10, 11, 12, 13, 14, 15, 16, 17,\n",
       "        18, 19, 20, 21, 22, 23])"
      ]
     },
     "execution_count": 3,
     "metadata": {},
     "output_type": "execute_result"
    }
   ],
   "source": [
    "## 数据操作 N维数组是机器学习和神经网络的主要数据结构\n",
    "\n",
    "import torch\n",
    "\n",
    "# 张量表示一个数值组成的数组 可能有多个维度\n",
    "x=torch.arange(24)\n",
    "x"
   ]
  },
  {
   "cell_type": "code",
   "execution_count": 4,
   "metadata": {},
   "outputs": [
    {
     "data": {
      "text/plain": [
       "torch.Size([24])"
      ]
     },
     "execution_count": 4,
     "metadata": {},
     "output_type": "execute_result"
    }
   ],
   "source": [
    "# shape访问张量的形状和张量中元素的总数\n",
    "x.shape "
   ]
  },
  {
   "cell_type": "code",
   "execution_count": 5,
   "metadata": {},
   "outputs": [
    {
     "data": {
      "text/plain": [
       "24"
      ]
     },
     "execution_count": 5,
     "metadata": {},
     "output_type": "execute_result"
    }
   ],
   "source": [
    "x.numel()"
   ]
  },
  {
   "cell_type": "code",
   "execution_count": 6,
   "metadata": {},
   "outputs": [
    {
     "data": {
      "text/plain": [
       "tensor([[ 0,  1,  2,  3,  4,  5],\n",
       "        [ 6,  7,  8,  9, 10, 11],\n",
       "        [12, 13, 14, 15, 16, 17],\n",
       "        [18, 19, 20, 21, 22, 23]])"
      ]
     },
     "execution_count": 6,
     "metadata": {},
     "output_type": "execute_result"
    }
   ],
   "source": [
    "# reshpae函数 改变数据的形状 而不改变元素数量\n",
    "x=x.reshape(4,6)\n",
    "x"
   ]
  },
  {
   "cell_type": "code",
   "execution_count": null,
   "metadata": {},
   "outputs": [
    {
     "data": {
      "text/plain": [
       "tensor([[0., 0.]])"
      ]
     },
     "execution_count": 8,
     "metadata": {},
     "output_type": "execute_result"
    }
   ],
   "source": [
    "# 设置全0\n",
    "torch.zeros((1,2))"
   ]
  },
  {
   "cell_type": "code",
   "execution_count": 12,
   "metadata": {},
   "outputs": [
    {
     "data": {
      "text/plain": [
       "torch.Size([4, 6])"
      ]
     },
     "execution_count": 12,
     "metadata": {},
     "output_type": "execute_result"
    }
   ],
   "source": [
    "x.shape"
   ]
  },
  {
   "cell_type": "code",
   "execution_count": 25,
   "metadata": {},
   "outputs": [
    {
     "data": {
      "text/plain": [
       "tensor([[ 0,  1,  2,  3,  4,  5],\n",
       "        [ 6,  7,  8,  9, 10, 11],\n",
       "        [12, 13, 14, 15, 16, 17],\n",
       "        [18, 19, 20, 21, 22, 23],\n",
       "        [ 1,  2,  3,  4,  5,  6]])"
      ]
     },
     "execution_count": 25,
     "metadata": {},
     "output_type": "execute_result"
    }
   ],
   "source": [
    "y=torch.tensor([[1,2,3,4,5,6]])\n",
    "# 多个张量连结 dim=0 0为行，1为列\n",
    "torch.cat((x,y),dim=0)"
   ]
  },
  {
   "cell_type": "code",
   "execution_count": 15,
   "metadata": {},
   "outputs": [
    {
     "data": {
      "text/plain": [
       "tensor(276)"
      ]
     },
     "execution_count": 15,
     "metadata": {},
     "output_type": "execute_result"
    }
   ],
   "source": [
    "x.sum()"
   ]
  },
  {
   "cell_type": "code",
   "execution_count": 20,
   "metadata": {},
   "outputs": [
    {
     "data": {
      "text/plain": [
       "(tensor([[0],\n",
       "         [1]]),\n",
       " tensor([[0, 1],\n",
       "         [2, 3]]))"
      ]
     },
     "execution_count": 20,
     "metadata": {},
     "output_type": "execute_result"
    }
   ],
   "source": [
    "a=torch.arange(2).reshape((2,1))\n",
    "b=torch.arange(4).reshape((2,2))\n",
    "a,b"
   ]
  },
  {
   "cell_type": "code",
   "execution_count": 21,
   "metadata": {},
   "outputs": [
    {
     "data": {
      "text/plain": [
       "tensor([[0, 1],\n",
       "        [3, 4]])"
      ]
     },
     "execution_count": 21,
     "metadata": {},
     "output_type": "execute_result"
    }
   ],
   "source": [
    "a+b"
   ]
  },
  {
   "cell_type": "code",
   "execution_count": 24,
   "metadata": {},
   "outputs": [
    {
     "data": {
      "text/plain": [
       "(tensor([[0, 1, 2, 3, 4, 5]]),\n",
       " tensor([[ 6,  7,  8,  9, 10, 11],\n",
       "         [12, 13, 14, 15, 16, 17]]))"
      ]
     },
     "execution_count": 24,
     "metadata": {},
     "output_type": "execute_result"
    }
   ],
   "source": [
    "x[:1],x[1:3]"
   ]
  },
  {
   "cell_type": "code",
   "execution_count": 26,
   "metadata": {},
   "outputs": [
    {
     "data": {
      "text/plain": [
       "(array([[ 0,  1,  2,  3,  4,  5],\n",
       "        [ 6,  7,  8,  9, 10, 11],\n",
       "        [12, 13, 14, 15, 16, 17],\n",
       "        [18, 19, 20, 21, 22, 23]]),\n",
       " tensor([[ 0,  1,  2,  3,  4,  5],\n",
       "         [ 6,  7,  8,  9, 10, 11],\n",
       "         [12, 13, 14, 15, 16, 17],\n",
       "         [18, 19, 20, 21, 22, 23]]))"
      ]
     },
     "execution_count": 26,
     "metadata": {},
     "output_type": "execute_result"
    }
   ],
   "source": [
    "A=x.numpy()\n",
    "B=torch.tensor(A)\n",
    "\n",
    "A,B"
   ]
  },
  {
   "cell_type": "code",
   "execution_count": 34,
   "metadata": {},
   "outputs": [
    {
     "name": "stdout",
     "output_type": "stream",
     "text": [
      "File '.\\data\\data.csv' created successfully.\n"
     ]
    }
   ],
   "source": [
    "import os\n",
    "\n",
    "# 创建目录\n",
    "os.makedirs(os.path.join('.', 'data'), exist_ok=True)\n",
    "data_file = os.path.join('.', 'data', 'data.csv')\n",
    "\n",
    "try:\n",
    "    with open(data_file, 'w') as f:\n",
    "        f.write('NumRooms,Alley,Price\\n')  # 列名\n",
    "        f.write('NA,Pave,127500\\n')  # 4个数据记录\n",
    "        f.write('2,NA,106000\\n')\n",
    "        f.write('4,NA,178100\\n')\n",
    "        f.write('NA,NA,140000\\n')\n",
    "    print(f\"File '{data_file}' created successfully.\")\n",
    "except Exception as e:\n",
    "    print(f\"Failed to create file: {e}\")"
   ]
  },
  {
   "cell_type": "code",
   "execution_count": 44,
   "metadata": {},
   "outputs": [
    {
     "name": "stdout",
     "output_type": "stream",
     "text": [
      "   NumRooms Alley   Price\n",
      "0       NaN  Pave  127500\n",
      "1       2.0   NaN  106000\n",
      "2       4.0   NaN  178100\n",
      "3       NaN   NaN  140000\n"
     ]
    }
   ],
   "source": [
    "import pandas as pd\n",
    "\n",
    "data = pd.read_csv(\"./data/data.csv\")\n",
    "print(data)"
   ]
  },
  {
   "cell_type": "code",
   "execution_count": 52,
   "metadata": {},
   "outputs": [],
   "source": [
    "# 处理缺失数据 插值\n",
    "input, output = data.iloc[:, 0:2], data.iloc[:, 2]\n",
    "\n",
    "# 处理数值列（NumRooms）\n",
    "num_rooms = input['NumRooms']\n",
    "num_rooms = num_rooms.fillna(num_rooms.mean()).round().astype(int)\n",
    "\n",
    "# 处理分类列（Alley）\n",
    "alley = input['Alley']\n",
    "alley = alley.fillna(alley.mode().iloc[0])  # 用众数填充缺失值\n",
    "\n",
    "# 合并处理后的列\n",
    "input = pd.concat([num_rooms, alley], axis=1)"
   ]
  },
  {
   "cell_type": "code",
   "execution_count": 53,
   "metadata": {},
   "outputs": [
    {
     "name": "stdout",
     "output_type": "stream",
     "text": [
      "   NumRooms Alley\n",
      "0         3  Pave\n",
      "1         2  Pave\n",
      "2         4  Pave\n",
      "3         3  Pave\n",
      "0    127500\n",
      "1    106000\n",
      "2    178100\n",
      "3    140000\n",
      "Name: Price, dtype: int64\n"
     ]
    }
   ],
   "source": [
    "print(input)\n",
    "print(output)"
   ]
  },
  {
   "cell_type": "code",
   "execution_count": null,
   "metadata": {},
   "outputs": [],
   "source": []
  }
 ],
 "metadata": {
  "kernelspec": {
   "display_name": "Python 3",
   "language": "python",
   "name": "python3"
  },
  "language_info": {
   "codemirror_mode": {
    "name": "ipython",
    "version": 3
   },
   "file_extension": ".py",
   "mimetype": "text/x-python",
   "name": "python",
   "nbconvert_exporter": "python",
   "pygments_lexer": "ipython3",
   "version": "3.12.4"
  }
 },
 "nbformat": 4,
 "nbformat_minor": 2
}
